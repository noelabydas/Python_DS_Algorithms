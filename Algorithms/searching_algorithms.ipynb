{
  "nbformat": 4,
  "nbformat_minor": 0,
  "metadata": {
    "colab": {
      "name": "Searching algorithms.ipynb",
      "provenance": []
    },
    "kernelspec": {
      "name": "python3",
      "display_name": "Python 3"
    }
  },
  "cells": [
    {
      "cell_type": "markdown",
      "metadata": {
        "id": "eGqWV4qdIbR4"
      },
      "source": [
        "# **Searching Algorithms**\n",
        "## Linear search \n",
        "\n",
        "```\n",
        "Time complexity: O(n)\n",
        "```\n",
        "\n"
      ]
    },
    {
      "cell_type": "code",
      "metadata": {
        "id": "B48ynJ5OJSwO",
        "outputId": "ed1d684b-14ed-4063-f53e-16b7546cbfba",
        "colab": {
          "base_uri": "https://localhost:8080/",
          "height": 34
        }
      },
      "source": [
        "def linear_search(arr, target):\n",
        "  for i in range(0,len(arr)):\n",
        "    if arr[i] == target:\n",
        "      return i\n",
        "  return -1\n",
        "\n",
        "arr = [9,2,1,3,7,4,6,5,8]\n",
        "target = 4\n",
        "\n",
        "position = linear_search(arr, target)\n",
        "\n",
        "if position != -1:\n",
        "  print(\"Element found at index: \", position)\n",
        "else:\n",
        "  print(\"Element NOT found\")"
      ],
      "execution_count": 5,
      "outputs": [
        {
          "output_type": "stream",
          "text": [
            "Element found at index:  5\n"
          ],
          "name": "stdout"
        }
      ]
    },
    {
      "cell_type": "markdown",
      "metadata": {
        "id": "O-lbmsx9KhEz"
      },
      "source": [
        "## Binary search\n",
        "\n",
        "**Pre condition**: array has to be in sorted order\n",
        "```\n",
        "Time complexity: O(n log n)\n",
        "```\n",
        "\n"
      ]
    },
    {
      "cell_type": "code",
      "metadata": {
        "id": "nYb6UR47K3_O",
        "outputId": "9aaddebb-7e50-4132-928d-db677bdd3827",
        "colab": {
          "base_uri": "https://localhost:8080/",
          "height": 34
        }
      },
      "source": [
        "def binary_search(arr, target, left, right):\n",
        "  mid = (left + right) // 2\n",
        "  if left > right:\n",
        "    return -1\n",
        "  if arr[mid] == target:\n",
        "    return mid\n",
        "  if target < arr[mid]:\n",
        "    return binary_search(arr, target, left, mid - 1)\n",
        "  if target > arr[mid]:\n",
        "    return binary_search(arr, target, mid + 1, right)\n",
        "\n",
        "arr = [1,2,3,4,5,6,7,8,9]\n",
        "target = 8\n",
        "\n",
        "position = binary_search(arr, target, 0, len(arr) - 1)\n",
        "\n",
        "if position != -1:\n",
        "  print(\"Element found at index: \", position)\n",
        "else:\n",
        "  print(\"Element NOT found\")"
      ],
      "execution_count": 13,
      "outputs": [
        {
          "output_type": "stream",
          "text": [
            "Element found at index:  7\n"
          ],
          "name": "stdout"
        }
      ]
    }
  ]
}