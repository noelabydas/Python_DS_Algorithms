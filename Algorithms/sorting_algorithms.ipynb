{
  "nbformat": 4,
  "nbformat_minor": 0,
  "metadata": {
    "colab": {
      "name": "sorting_algorithms.ipynb",
      "provenance": []
    },
    "kernelspec": {
      "name": "python3",
      "display_name": "Python 3"
    }
  },
  "cells": [
    {
      "cell_type": "markdown",
      "metadata": {
        "id": "XazpAdizn7MH"
      },
      "source": [
        "# **Sorting Algorithms**\n",
        "## Bubble sort\n",
        "\n",
        "\n",
        "```\n",
        "Time complexity: O(n^2)\n",
        "```\n",
        "\n"
      ]
    },
    {
      "cell_type": "code",
      "metadata": {
        "id": "uEy7hCLIn0Co",
        "outputId": "9d2050b8-a326-49ee-86c1-86c3ebb51a73",
        "colab": {
          "base_uri": "https://localhost:8080/",
          "height": 51
        }
      },
      "source": [
        "def bubble_sort(arr):\n",
        "  for i in range(len(arr)):\n",
        "    for j in range(len(arr)-i-1):\n",
        "      if arr[j] > arr[j+1]:\n",
        "        arr[j], arr[j+1] = arr[j+1], arr[j]\n",
        "\n",
        "arr = [9,2,8,3,7,4,5,6,0,1]\n",
        "\n",
        "bubble_sort(arr)\n",
        "\n",
        "print(\"Sorted array: \")\n",
        "for i in range(len(arr)):\n",
        "  print(arr[i], end=\",\")"
      ],
      "execution_count": 1,
      "outputs": [
        {
          "output_type": "stream",
          "text": [
            "Sorted array: \n",
            "0,1,2,3,4,5,6,7,8,9,"
          ],
          "name": "stdout"
        }
      ]
    },
    {
      "cell_type": "markdown",
      "metadata": {
        "id": "M5f2vqeHp_Y_"
      },
      "source": [
        "## Selection sort\n",
        "\n",
        "\n",
        "```\n",
        "Time complexity: O(n^2) \n",
        "```\n",
        "\n"
      ]
    },
    {
      "cell_type": "code",
      "metadata": {
        "id": "X1_LlkxvrFuv",
        "outputId": "d04b4c17-cc83-4b3f-c060-9a3131361eb5",
        "colab": {
          "base_uri": "https://localhost:8080/",
          "height": 51
        }
      },
      "source": [
        "def selection_sort(arr):\n",
        "  for i in range(len(arr)):\n",
        "    min_index = i\n",
        "    for j in range(i+1, len(arr)):\n",
        "      if arr[min_index] > arr[j]:\n",
        "        min_index = j\n",
        "    arr[i], arr[min_index] = arr[min_index], arr[i]\n",
        "\n",
        "arr = [9,2,8,3,7,4,5,6,0,1]\n",
        "\n",
        "selection_sort(arr)\n",
        "\n",
        "print(\"Sorted array: \")\n",
        "for i in range(len(arr)):\n",
        "  print(arr[i], end=\",\")"
      ],
      "execution_count": 2,
      "outputs": [
        {
          "output_type": "stream",
          "text": [
            "Sorted array: \n",
            "0,1,2,3,4,5,6,7,8,9,"
          ],
          "name": "stdout"
        }
      ]
    },
    {
      "cell_type": "markdown",
      "metadata": {
        "id": "_GPYPkPnsSXX"
      },
      "source": [
        "## Insertion sort\n",
        "\n",
        "\n",
        "```\n",
        "Time complexity: O(n^2)\n",
        "```\n",
        "\n"
      ]
    },
    {
      "cell_type": "code",
      "metadata": {
        "id": "bb6t_LlDsjpD",
        "outputId": "398ee675-a54e-466b-b20b-e8f7f11c46e1",
        "colab": {
          "base_uri": "https://localhost:8080/",
          "height": 51
        }
      },
      "source": [
        "def insertion_sort(arr):\n",
        "  for i in range(1, len(arr)):\n",
        "    key = arr[i]\n",
        "    j = i - 1\n",
        "    while j >= 0 and arr[j] > key:\n",
        "      arr[j+1] = arr[j]\n",
        "      j -= 1\n",
        "    arr[j+1] = key\n",
        "\n",
        "arr = [9,2,8,3,7,4,5,6,0,1]\n",
        "\n",
        "insertion_sort(arr)\n",
        "\n",
        "print(\"Sorted array: \")\n",
        "for i in range(len(arr)):\n",
        "  print(arr[i], end=\",\")"
      ],
      "execution_count": 4,
      "outputs": [
        {
          "output_type": "stream",
          "text": [
            "Sorted array: \n",
            "0,1,2,3,4,5,6,7,8,9,"
          ],
          "name": "stdout"
        }
      ]
    },
    {
      "cell_type": "markdown",
      "metadata": {
        "id": "hNMy-BOrsiyS"
      },
      "source": [
        "## Quick sort\n",
        "\n",
        "\n",
        "```\n",
        "Time complexity: O(n log n)\n",
        "```\n",
        "\n",
        "\n",
        "\n"
      ]
    },
    {
      "cell_type": "code",
      "metadata": {
        "id": "IyLtqb1Xuu1I",
        "outputId": "6fa3b5dd-cded-47c9-c150-f32d4d12bdb5",
        "colab": {
          "base_uri": "https://localhost:8080/",
          "height": 51
        }
      },
      "source": [
        "def partition(arr, low, high):\n",
        "  pivot = arr[high]\n",
        "  i = low - 1 \n",
        "  for j in range(low , high): \n",
        "    if   arr[j] < pivot:\n",
        "      i = i + 1\n",
        "      arr[i],arr[j] = arr[j],arr[i] \n",
        "  arr[i+1], arr[high] = arr[high], arr[i+1]\n",
        "  return i + 1\n",
        "\n",
        "def quick_sort(arr, low, high):\n",
        "  if low < high:\n",
        "    p = partition(arr, low, high)\n",
        "    quick_sort(arr, low, p - 1)\n",
        "    quick_sort(arr, p + 1, high)\n",
        "\n",
        "arr = [9,2,8,3,7,4,5,6,0,1]\n",
        "\n",
        "quick_sort(arr, 0, len(arr)-1)\n",
        "\n",
        "print(\"Sorted array: \")\n",
        "for i in range(len(arr)):\n",
        "  print(arr[i], end=\",\")"
      ],
      "execution_count": 8,
      "outputs": [
        {
          "output_type": "stream",
          "text": [
            "Sorted array: \n",
            "0,1,2,3,4,5,6,7,8,9,"
          ],
          "name": "stdout"
        }
      ]
    },
    {
      "cell_type": "markdown",
      "metadata": {
        "id": "wPOxMy4rxMue"
      },
      "source": [
        "## Merge sort\n",
        "\n",
        "\n",
        "```\n",
        "Time complexity: O(n log n)\n",
        "```\n",
        "\n"
      ]
    },
    {
      "cell_type": "code",
      "metadata": {
        "id": "6tz_ExH3xUL8",
        "outputId": "fed2c4d7-486b-4581-d211-2aad8305cbf9",
        "colab": {
          "base_uri": "https://localhost:8080/",
          "height": 51
        }
      },
      "source": [
        "def merge(arr, low, mid, high):\n",
        "  len1 = mid - low + 1\n",
        "  len2 = high - mid\n",
        "  \n",
        "  L = [0] * (len1)\n",
        "  R = [0] * (len2)\n",
        "  \n",
        "  for i in range(len1):\n",
        "    L[i] = arr[low + i] \n",
        "  for j in range(len2):\n",
        "    R[j] = arr[mid + 1 + j] \n",
        "  \n",
        "  i = 0\n",
        "  j = 0\n",
        "  k = low\n",
        "  \n",
        "  while i < len1 and j < len2:\n",
        "    if L[i] <= R[j]:\n",
        "      arr[k] = L[i] \n",
        "      i += 1\n",
        "    else:\n",
        "      arr[k] = R[j]\n",
        "      j += 1\n",
        "    k += 1\n",
        "  \n",
        "  while i < len1: \n",
        "    arr[k] = L[i] \n",
        "    i += 1\n",
        "    k += 1\n",
        "  \n",
        "  while j < len2: \n",
        "    arr[k] = R[j] \n",
        "    j += 1\n",
        "    k += 1\n",
        "\n",
        "def merge_sort(arr, low, high): \n",
        "  if low < high:\n",
        "    mid = (low + high) // 2\n",
        "    merge_sort(arr, low, mid)\n",
        "    merge_sort(arr, mid + 1, high)\n",
        "    merge(arr, low, mid, high)\n",
        "\n",
        "arr = [9,2,8,3,7,4,5,6,0,1]\n",
        "\n",
        "merge_sort(arr, 0, len(arr)-1)\n",
        "\n",
        "print(\"Sorted array: \")\n",
        "for i in range(len(arr)):\n",
        "  print(arr[i], end=\",\")"
      ],
      "execution_count": 10,
      "outputs": [
        {
          "output_type": "stream",
          "text": [
            "Sorted array: \n",
            "0,1,2,3,4,5,6,7,8,9,"
          ],
          "name": "stdout"
        }
      ]
    }
  ]
}