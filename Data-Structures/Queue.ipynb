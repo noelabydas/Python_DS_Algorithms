{
  "nbformat": 4,
  "nbformat_minor": 0,
  "metadata": {
    "colab": {
      "name": "Queue.ipynb",
      "provenance": []
    },
    "kernelspec": {
      "name": "python3",
      "display_name": "Python 3"
    },
    "language_info": {
      "name": "python"
    }
  },
  "cells": [
    {
      "cell_type": "markdown",
      "metadata": {
        "id": "z-DSegWDaoMu"
      },
      "source": [
        "# **Queue**\n",
        "### **What is queue?**\n",
        "Queue is a common data structure which behaves in a FIFO - First In First Out manner. The element which is added the first is the first one to be removed. Similar to queue of people in real world, the first one standing in the line is the first one to be served.\n",
        "\n",
        "### **Queue operations**\n",
        "Common queue operations are:\n",
        "\n",
        "\n",
        "1.   **EnQueue(X)**: pushes the element X to the rear of the queue\n",
        "2.   **DeQueue()**: removes element from the front of the queue\n",
        "3.   **front()**: returns the front element from the queue\n",
        "4.   **rear()**:  returns the rear element from the queue\n",
        "5.   **isEmpty()**: returns boolean value ```True``` if queue is empty otherwise ```False```\n",
        "6.   **getSize()**: returns size of the queue/number of elements in the queue\n",
        "\n",
        "\n",
        "```\n",
        "Time complexity of all the above operations: O(1)\n",
        "```\n",
        "\n",
        "### **Implementation**\n",
        "Queue can be implemented in python using ```Collection.deque```, ```queue.Queue```, ```list```, ```linkList```.\n",
        "\n",
        "In this notebook, we have a class based linkedList implementation of queue, ```list``` can also be used, but we used linkedList to get ```O(1)``` DeQueue operation.\n",
        "\n",
        "\n"
      ]
    },
    {
      "cell_type": "code",
      "metadata": {
        "colab": {
          "base_uri": "https://localhost:8080/"
        },
        "id": "DSXQPBeyanK_",
        "outputId": "6d59319e-241c-4797-df32-831186bf43d7"
      },
      "source": [
        "class Node:\n",
        "    def __init__(self, data):\n",
        "        self.data = data\n",
        "        self.next = None\n",
        " \n",
        "class Queue:\n",
        "    def __init__(self):\n",
        "        self.front = self.rear = None\n",
        "        self.size = 0\n",
        " \n",
        "    def EnQueue(self, item):\n",
        "        temp = Node(item)\n",
        "        self.size += 1\n",
        "        if self.rear == None:\n",
        "          self.front = self.rear = temp\n",
        "        else:\n",
        "          self.rear.next = temp\n",
        "          self.rear = temp\n",
        " \n",
        "    def DeQueue(self):\n",
        "        if self.isEmpty():\n",
        "          print('DeQueue: Queue is EMPTY')\n",
        "          return\n",
        "\n",
        "        self.size -= 1\n",
        "        temp = self.front\n",
        "        self.front = temp.next\n",
        " \n",
        "        if(self.front == None):\n",
        "          self.rear = None\n",
        "    \n",
        "    def isEmpty(self):\n",
        "      return self.size == 0\n",
        "\n",
        "    def Front(self):\n",
        "      if self.isEmpty():\n",
        "        print('Front: Queue is EMPTY')\n",
        "        return\n",
        "      \n",
        "      return self.front.data\n",
        "\n",
        "    def Rear(self):\n",
        "      if self.isEmpty():\n",
        "        print('Rear: Queue is EMPTY')\n",
        "        return\n",
        "      \n",
        "      return self.rear.data    \n",
        "\n",
        "    def getSize(self):\n",
        "      return self.size\n",
        "\n",
        "q = Queue() # Queue: []\n",
        "\n",
        "q.EnQueue(1) # Queue: [1]\n",
        "q.EnQueue(2) # Queue: [1, 2]\n",
        "\n",
        "print(\"Size: \" + str(q.getSize())) # Returns 2 \n",
        "\n",
        "q.DeQueue() # Queue: [2]\n",
        "\n",
        "q.EnQueue(3) # Queue: [2, 3]\n",
        "q.EnQueue(4) # Queue: [2, 3, 4]\n",
        "\n",
        "print(\"Front: \" + str(q.Front()))  # Front -> 2\n",
        "print(\"Rear: \" + str(q.Rear()))  # Rear -> 4\n",
        "\n",
        "print(\"IsEmpty: \" + str(q.isEmpty())) # Return False\n",
        "    \n",
        "q.DeQueue() # Queue: [3, 4]\n",
        "q.DeQueue() # Queue: [4]\n",
        "q.DeQueue() # Queue: []\n",
        "\n",
        "print(\"IsEmpty: \" + str(q.isEmpty())) # Return True"
      ],
      "execution_count": 1,
      "outputs": [
        {
          "output_type": "stream",
          "name": "stdout",
          "text": [
            "Size: 2\n",
            "Front: 2\n",
            "Rear: 4\n",
            "IsEmpty: False\n",
            "IsEmpty: True\n"
          ]
        }
      ]
    }
  ]
}