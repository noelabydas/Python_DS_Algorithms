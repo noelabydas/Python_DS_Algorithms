{
  "nbformat": 4,
  "nbformat_minor": 0,
  "metadata": {
    "colab": {
      "name": "Binary_Tree.ipynb",
      "provenance": []
    },
    "kernelspec": {
      "name": "python3",
      "display_name": "Python 3"
    },
    "language_info": {
      "name": "python"
    }
  },
  "cells": [
    {
      "cell_type": "markdown",
      "metadata": {
        "id": "tgccxM9XVFCZ"
      },
      "source": [
        "# **Binary Tree**\n",
        "### **What is Binary Tree?**\n",
        "Binary Tree is a non-linear data structure. In a binary tree, each node has at most 2 child nodes.\n",
        "\n",
        "Example:\n",
        "```\n",
        "     1\n",
        "   /   \\\n",
        "  2     3\n",
        " / \\   / \\\n",
        "4   5 6   7\n",
        "```\n",
        "### **Tree terminologies**\n",
        "**Node** – Each vertex of a binary tree. \n",
        "A node typically has 3 fields, a value/data field, and a pointer or reference to both left and right child nodes.\n",
        "\n",
        "**Root** – The topmost node of the binary tree.\n",
        "\n",
        "**Leaf** – The nodes which have no children.**bold text**\n",
        "\n",
        "**Level** – The horizontal level of a node. The root is at level 0, the children of the root node is at level 1, and so on.\n"
      ]
    },
    {
      "cell_type": "code",
      "metadata": {
        "id": "88dGD-IqZmGw"
      },
      "source": [
        "class Node:\n",
        "    def __init__(self, data):\n",
        "        self.left = None\n",
        "        self.right = None\n",
        "        self.data = data\n",
        "\n",
        "root = Node(1) \n",
        "\n",
        "#        1\n",
        "#      /   \\\n",
        "#     None None\n",
        "\n",
        "root.left = Node(2)\n",
        "\n",
        "#        1\n",
        "#      /   \\\n",
        "#     2   None\n",
        "\n",
        "root.right = Node(3)\n",
        "\n",
        "#          1\n",
        "#        /   \\\n",
        "#       2     3\n",
        "#     /   \\  /  \\\n",
        "#  None None None None\n",
        "\n",
        "root.right.right = Node(4)\n",
        "\n",
        "#          1\n",
        "#        /   \\\n",
        "#       2     3\n",
        "#     /   \\  /  \\\n",
        "# None None None 4"
      ],
      "execution_count": null,
      "outputs": []
    },
    {
      "cell_type": "markdown",
      "metadata": {
        "id": "nIK6_w3waTwD"
      },
      "source": [
        "# **Binary Search Tree**\n",
        "### **What is Binary Search Tree?**\n",
        "Binary Search Tree is a special kind of binary tree which follow these 2 properties.\n",
        "1. All the nodes in the left subtree of any node have values less than or equal to the node itself.\n",
        "2. All the nodes in the right subtree of any node have values greater the node itself.\n",
        "\n",
        "Searching or inserting an element in a binary search tree is efficient and takes ```O(log n)``` time on average."
      ]
    },
    {
      "cell_type": "code",
      "metadata": {
        "colab": {
          "base_uri": "https://localhost:8080/"
        },
        "id": "gHQ5LsO4cS-M",
        "outputId": "1d3994c3-61ad-43d8-e572-bda205885508"
      },
      "source": [
        "class BstNode:\n",
        "    def __init__(self, data):\n",
        "        self.left = None\n",
        "        self.right = None\n",
        "        self.data = data\n",
        "\n",
        "    def insert(self, data):\n",
        "      if self.data:\n",
        "        if data <= self.data:\n",
        "          if self.left is None:\n",
        "            self.left = BstNode(data)\n",
        "          else:\n",
        "            self.left.insert(data)\n",
        "        elif data > self.data:\n",
        "          if self.right is None:\n",
        "            self.right = BstNode(data)\n",
        "          else:\n",
        "              self.right.insert(data)\n",
        "      else:\n",
        "          self.data = data\n",
        "\n",
        "    def search(self, val):\n",
        "          if val < self.data:\n",
        "            if self.left is None:\n",
        "              print(str(val) + \" NOT found\")\n",
        "              return\n",
        "            self.left.search(val)\n",
        "          elif val > self.data:\n",
        "            if self.right is None:\n",
        "              print(str(val) + \" NOT found\")\n",
        "              return\n",
        "            self.right.search(val)\n",
        "          else:\n",
        "              print(str(self.data) + ' found')\n",
        "\n",
        "root = BstNode(2)\n",
        "\n",
        "#       2\n",
        "#     /   \\\n",
        "#   None  None\n",
        "\n",
        "root.insert(1)\n",
        "\n",
        "#          2\n",
        "#        /   \\\n",
        "#       1     None\n",
        "#     /   \\\n",
        "#  None   None \n",
        "\n",
        "root.insert(4)\n",
        "\n",
        "#          2\n",
        "#        /   \\\n",
        "#       1     4\n",
        "#     /   \\  /  \\\n",
        "# None None None None\n",
        "\n",
        "root.insert(5)\n",
        "\n",
        "#          2\n",
        "#        /   \\\n",
        "#       1     4\n",
        "#     /   \\  /  \\\n",
        "# None None None 5\n",
        "#               /  \\\n",
        "#             None None\n",
        "\n",
        "root.insert(3)\n",
        "\n",
        "#          2\n",
        "#        /   \\\n",
        "#       1     4\n",
        "#     /   \\  /  \\\n",
        "#  None None 3   5\n",
        "#        /  \\    /  \\\n",
        "#     None None None None\n",
        "\n",
        "root.search(3)\n",
        "root.search(6)\n"
      ],
      "execution_count": 1,
      "outputs": [
        {
          "output_type": "stream",
          "name": "stdout",
          "text": [
            "3 found\n",
            "6 NOT found\n"
          ]
        }
      ]
    }
  ]
}