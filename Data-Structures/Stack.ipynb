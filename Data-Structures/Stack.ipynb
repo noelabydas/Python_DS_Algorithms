{
  "nbformat": 4,
  "nbformat_minor": 0,
  "metadata": {
    "colab": {
      "name": "Stack.ipynb",
      "provenance": []
    },
    "kernelspec": {
      "name": "python3",
      "display_name": "Python 3"
    },
    "language_info": {
      "name": "python"
    }
  },
  "cells": [
    {
      "cell_type": "markdown",
      "metadata": {
        "id": "_H8kqOAJOyN_"
      },
      "source": [
        "# **Stack**\n",
        "### **What is stack?**\n",
        "Stack is a common data structure which behaves in a LIFO - Last In First Out manner. The element which is added the last is the first one to be removed. Similar to stack of objects (books, disks, etc) in real world.\n",
        "\n",
        "### **Stack operations**\n",
        "Common stack operations are:\n",
        "\n",
        "\n",
        "1.   **push(X)**: pushes the element X to the top of the stack\n",
        "2.   **pop()**: removes topmost element from the stack\n",
        "3.   **peek()**: returns topmost element from the stack\n",
        "4.   **isEmpty()**: returns boolean value ```True``` if stack is empty otherwise ```False```\n",
        "5.   **getSize()**: returns size of the stack/number of elements in the stack\n",
        "\n",
        "\n",
        "```\n",
        "Time complexity of all the above operations: O(1)\n",
        "```\n",
        "\n",
        "### **Implementation**\n",
        "Stack can be implemented in python using ```Collection.deque```, ```queue.LifoQueue```, or ```list```.\n",
        "\n",
        "In this notebook, we have a class based list implementation of stack.\n"
      ]
    },
    {
      "cell_type": "code",
      "metadata": {
        "colab": {
          "base_uri": "https://localhost:8080/"
        },
        "id": "L5niyjaKUlGu",
        "outputId": "d32d479c-ed7f-400c-d65e-199bf1ad21bb"
      },
      "source": [
        "class Stack:\n",
        "     def __init__(self):\n",
        "         self.items = []\n",
        "         self.size = 0\n",
        "\n",
        "     def isEmpty(self):\n",
        "         return self.size == 0\n",
        "\n",
        "     def push(self, item):\n",
        "         self.items.append(item)\n",
        "         self.size += 1\n",
        "\n",
        "     def pop(self):\n",
        "       if self.size > 0:\n",
        "         self.size -= 1\n",
        "         return self.items.pop()\n",
        "       else:\n",
        "         print(\"Pop: Stack is EMPTY\")\n",
        "\n",
        "\n",
        "     def peek(self):\n",
        "       if self.size > 0:\n",
        "         return self.items[self.size - 1]\n",
        "       else:\n",
        "         print(\"Peek: Stack is EMPTY\")\n",
        "         \n",
        "\n",
        "     def getSize(self):\n",
        "         return self.size\n",
        "\n",
        "st = Stack() # Satck: []\n",
        "\n",
        "st.push(1)  # Stack: [1]\n",
        "st.push(2)  # Stack: [1, 2]\n",
        "\n",
        "st.peek() # Returns 2\n",
        "\n",
        "print(st.getSize()) # Size = 2\n",
        "\n",
        "st.pop()  # Stack: [1]\n",
        "\n",
        "st.peek() # Returns 1\n",
        "\n",
        "st.isEmpty() # False\n",
        "\n",
        "st.pop() # Stack: []\n",
        "\n",
        "print(st.isEmpty()) # True\n",
        "\n",
        "st.push(3) # Stack: [3]\n",
        "\n",
        "print(st.isEmpty()) # False"
      ],
      "execution_count": 1,
      "outputs": [
        {
          "output_type": "stream",
          "name": "stdout",
          "text": [
            "2\n",
            "True\n",
            "False\n"
          ]
        }
      ]
    }
  ]
}