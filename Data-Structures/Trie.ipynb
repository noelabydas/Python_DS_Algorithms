{
  "nbformat": 4,
  "nbformat_minor": 0,
  "metadata": {
    "colab": {
      "name": "Trie.ipynb",
      "provenance": []
    },
    "kernelspec": {
      "name": "python3",
      "display_name": "Python 3"
    }
  },
  "cells": [
    {
      "cell_type": "markdown",
      "metadata": {
        "id": "RXlHWyXzqcIv"
      },
      "source": [
        "# Tries\n",
        "\n",
        "### Insertion, deletion and search\n",
        "\n",
        "\n",
        "```\n",
        "Time complexity of above operations are: O(length of string)\n",
        "Space complexity: O(alphabet size * length of string * number of words)\n",
        "```\n",
        "\n"
      ]
    },
    {
      "cell_type": "code",
      "metadata": {
        "id": "8wd5x-Z4qV_Y",
        "outputId": "88ea4ce9-5ea7-41fe-ee1a-4be654c6c47f",
        "colab": {
          "base_uri": "https://localhost:8080/",
          "height": 51
        }
      },
      "source": [
        "class TrieNode: \n",
        "      \n",
        "    def __init__(self): \n",
        "        self.children = [None]*26\n",
        "        self.isEndOfWord = False\n",
        "  \n",
        "class Trie: \n",
        "      \n",
        "    def __init__(self): \n",
        "        self.root = self.getNode() \n",
        "  \n",
        "    def getNode(self): \n",
        "        return TrieNode() \n",
        "  \n",
        "    def getCharIndex(self, ch): \n",
        "        return ord(ch) - ord('a') \n",
        "  \n",
        "    def insert(self, word): \n",
        "        temp = self.root \n",
        "        for i in range(len(word)): \n",
        "            index = self.getCharIndex(word[i]) \n",
        "            if not temp.children[index]: \n",
        "                temp.children[index] = self.getNode() \n",
        "            temp = temp.children[index] \n",
        "  \n",
        "        temp.isEndOfWord = True\n",
        "  \n",
        "    def search(self, word): \n",
        "        temp = self.root \n",
        "        for i in range(len(word)): \n",
        "            index = self.getCharIndex(word[i]) \n",
        "            if not temp.children[index]: \n",
        "                return False\n",
        "            temp = temp.children[index] \n",
        "  \n",
        "        return temp != None and temp.isEndOfWord\n",
        "\n",
        "    def delete(self, word):\n",
        "      if self.search(word):\n",
        "        temp = self.root\n",
        "        for i in range(len(word)): \n",
        "            temp = temp.children[self.getCharIndex(word[i])] \n",
        "        temp.isEndOfWord = False\n",
        "\n",
        "trie = Trie()\n",
        "\n",
        "trie.insert(\"hello\")\n",
        "trie.insert(\"world\")\n",
        "trie.insert(\"happy\")\n",
        "trie.insert(\"ball\")\n",
        "trie.insert(\"feather\")\n",
        "\n",
        "if trie.search(\"happy\"):\n",
        "  print(\"Match found\")\n",
        "else:\n",
        "  print(\"Match NOT found\")\n",
        "\n",
        "trie.delete(\"happy\")\n",
        "\n",
        "if trie.search(\"happy\"):\n",
        "  print(\"Match found\")\n",
        "else:\n",
        "  print(\"Match NOT found\")\n"
      ],
      "execution_count": 1,
      "outputs": [
        {
          "output_type": "stream",
          "text": [
            "Match found\n",
            "Match NOT found\n"
          ],
          "name": "stdout"
        }
      ]
    }
  ]
}